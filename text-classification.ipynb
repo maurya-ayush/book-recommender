{
 "cells": [
  {
   "cell_type": "code",
   "execution_count": null,
   "id": "initial_id",
   "metadata": {
    "ExecuteTime": {
     "end_time": "2025-09-08T13:04:28.370867Z",
     "start_time": "2025-09-08T13:04:28.149367Z"
    },
    "collapsed": true
   },
   "outputs": [],
   "source": [
    "import numpy as np\n",
    "import pandas as pd\n",
    "from unicodedata import category\n",
    "\n",
    "books = pd.read_csv(\"book_cleaned.csv\")\n"
   ]
  },
  {
   "cell_type": "code",
   "execution_count": null,
   "id": "87e0ef1c45cfac40",
   "metadata": {
    "ExecuteTime": {
     "end_time": "2025-09-08T13:05:01.850601Z",
     "start_time": "2025-09-08T13:05:01.843101Z"
    }
   },
   "outputs": [],
   "source": [
    "books[\"categories\"].value_counts().reset_index()"
   ]
  },
  {
   "cell_type": "code",
   "execution_count": null,
   "id": "7749f27cf993bbe",
   "metadata": {
    "ExecuteTime": {
     "end_time": "2025-09-08T13:15:15.271339Z",
     "start_time": "2025-09-08T13:15:15.263839Z"
    }
   },
   "outputs": [],
   "source": [
    "books[\"categories\"].value_counts().reset_index().query(\"count > 50\")"
   ]
  },
  {
   "cell_type": "code",
   "execution_count": null,
   "id": "9510d39e67ff8306",
   "metadata": {
    "ExecuteTime": {
     "end_time": "2025-09-08T13:18:00.936674Z",
     "start_time": "2025-09-08T13:18:00.932174Z"
    }
   },
   "outputs": [],
   "source": [
    "category_mapping = {\n",
    "    'Fiction': \"Fiction\",\n",
    "    'Juvenile Fiction': \"Children's Fiction\",\n",
    "    'Biography & Autobiography': \"Nonfiction\",\n",
    "    'History': \"Nonfiction\",\n",
    "    'Literary Criticism': \"Nonfiction\",\n",
    "    'Philosophy': \"Nonfiction\",\n",
    "    'Religion': \"Nonfiction\",\n",
    "    'Comics & Graphic Novels': \"Fiction\",\n",
    "    'Drama': \"Fiction\",\n",
    "    'Juvenile Nonfiction': \"Children's Nonfiction\",\n",
    "    'Science': \"Nonfiction\",\n",
    "    'Poetry': \"Fiction\"\n",
    "}\n",
    "\n",
    "books[\"simple_categories\"] = books[\"categories\"].map(category_mapping)"
   ]
  },
  {
   "cell_type": "code",
   "execution_count": null,
   "id": "92bcd25b8e523933",
   "metadata": {
    "ExecuteTime": {
     "end_time": "2025-09-08T13:18:02.685699Z",
     "start_time": "2025-09-08T13:18:02.674700Z"
    }
   },
   "outputs": [],
   "source": [
    "books"
   ]
  },
  {
   "cell_type": "code",
   "execution_count": null,
   "id": "976f82adb7045389",
   "metadata": {
    "ExecuteTime": {
     "end_time": "2025-09-08T13:19:53.314918Z",
     "start_time": "2025-09-08T13:19:53.300417Z"
    }
   },
   "outputs": [],
   "source": [
    "books[~(books[\"simple_categories\"].isna())]"
   ]
  },
  {
   "cell_type": "code",
   "execution_count": null,
   "id": "8d97c338afe61e0f",
   "metadata": {
    "ExecuteTime": {
     "end_time": "2025-09-08T13:47:16.833122Z",
     "start_time": "2025-09-08T13:47:15.829623Z"
    }
   },
   "outputs": [],
   "source": [
    "from transformers import pipeline\n",
    "\n",
    "\n",
    "fiction_categories = [\"Fiction\", \"Nonfiction\"]\n",
    "\n",
    "pipe = pipeline(\"zero-shot-classification\",\n",
    "                model=\"facebook/bart-large-mnli\",\n",
    "                device=\"cpu\",)\n"
   ]
  },
  {
   "cell_type": "code",
   "execution_count": null,
   "id": "ba2ce2a95649650c",
   "metadata": {
    "ExecuteTime": {
     "end_time": "2025-09-08T13:49:56.396884Z",
     "start_time": "2025-09-08T13:49:56.392885Z"
    }
   },
   "outputs": [],
   "source": [
    "sequence = books.loc[books[\"simple_categories\"] == \"Fiction\", \"description\"].reset_index(drop=True)[0]"
   ]
  },
  {
   "cell_type": "code",
   "execution_count": null,
   "id": "508dbffcc64bbe59",
   "metadata": {
    "ExecuteTime": {
     "end_time": "2025-09-08T13:50:30.331655Z",
     "start_time": "2025-09-08T13:50:29.339656Z"
    }
   },
   "outputs": [],
   "source": [
    "pipe(sequence, fiction_categories)"
   ]
  },
  {
   "cell_type": "code",
   "execution_count": null,
   "id": "cf464748b9e631f4",
   "metadata": {
    "ExecuteTime": {
     "end_time": "2025-09-08T13:54:08.309772Z",
     "start_time": "2025-09-08T13:54:07.027774Z"
    }
   },
   "outputs": [],
   "source": [
    "import numpy as np\n",
    "\n",
    "max_index = np.argmax(pipe(sequence, fiction_categories)[\"scores\"])\n",
    "max_label = pipe(sequence, fiction_categories)[\"labels\"][max_index]\n",
    "\n",
    "max_label"
   ]
  },
  {
   "cell_type": "code",
   "execution_count": null,
   "id": "980758e9db13c4a2",
   "metadata": {
    "ExecuteTime": {
     "end_time": "2025-09-08T13:56:34.813308Z",
     "start_time": "2025-09-08T13:56:34.810307Z"
    }
   },
   "outputs": [],
   "source": [
    "def generate_predictions(sequence, categories):\n",
    "    predictions = pipe(sequence, categories)\n",
    "    max_index = np.argmax(predictions[\"scores\"])\n",
    "    max_label = predictions[\"labels\"][max_index]\n",
    "    return max_label"
   ]
  },
  {
   "cell_type": "code",
   "execution_count": null,
   "id": "e56904f1aef870bc",
   "metadata": {
    "ExecuteTime": {
     "end_time": "2025-09-08T14:04:16.797692Z",
     "start_time": "2025-09-08T14:02:37.709693Z"
    }
   },
   "outputs": [],
   "source": [
    "from tqdm import tqdm\n",
    "\n",
    "actual_cats = []\n",
    "predicted_cats = []\n",
    "\n",
    "for i in tqdm(range(0, 300)):\n",
    "    sequence = books.loc[books[\"simple_categories\"] == \"Fiction\", \"description\"].reset_index(drop=True)[i]\n",
    "    predicted_cats += [generate_predictions(sequence, fiction_categories)]\n",
    "    actual_cats += [\"Fiction\"]"
   ]
  },
  {
   "cell_type": "code",
   "execution_count": null,
   "id": "311c33c490e816b3",
   "metadata": {
    "ExecuteTime": {
     "end_time": "2025-09-08T14:06:00.345192Z",
     "start_time": "2025-09-08T14:04:16.810192Z"
    }
   },
   "outputs": [],
   "source": [
    "for i in tqdm(range(0, 300)):\n",
    "    sequence = books.loc[books[\"simple_categories\"] == \"Nonfiction\", \"description\"].reset_index(drop=True)[i]\n",
    "    predicted_cats += [generate_predictions(sequence, fiction_categories)]\n",
    "    actual_cats += [\"Nonfiction\"]"
   ]
  },
  {
   "cell_type": "code",
   "execution_count": null,
   "id": "7e264689615fa2f6",
   "metadata": {
    "ExecuteTime": {
     "end_time": "2025-09-08T14:07:05.955125Z",
     "start_time": "2025-09-08T14:07:05.951625Z"
    }
   },
   "outputs": [],
   "source": [
    "predictions_df = pd.DataFrame({\"actual_categories\": actual_cats, \"predicted_categories\": predicted_cats})"
   ]
  },
  {
   "cell_type": "code",
   "execution_count": null,
   "id": "cb04eb55c0dd997e",
   "metadata": {
    "ExecuteTime": {
     "end_time": "2025-09-08T14:07:24.868206Z",
     "start_time": "2025-09-08T14:07:24.861208Z"
    }
   },
   "outputs": [],
   "source": [
    "predictions_df"
   ]
  },
  {
   "cell_type": "code",
   "execution_count": null,
   "id": "9a7185cb7c2dfafc",
   "metadata": {
    "ExecuteTime": {
     "end_time": "2025-09-08T14:09:22.878266Z",
     "start_time": "2025-09-08T14:09:22.874768Z"
    }
   },
   "outputs": [],
   "source": [
    "predictions_df[\"correct_predictions\"] = (\n",
    "    np.where(predictions_df[\"actual_categories\"] == predictions_df[\"predicted_categories\"], 1, 0)\n",
    ")"
   ]
  },
  {
   "cell_type": "code",
   "execution_count": null,
   "id": "4b1a7438dbbf7e93",
   "metadata": {
    "ExecuteTime": {
     "end_time": "2025-09-08T14:10:08.650488Z",
     "start_time": "2025-09-08T14:10:08.645986Z"
    }
   },
   "outputs": [],
   "source": [
    "predictions_df[\"correct_predictions\"].sum() / len(predictions_df)"
   ]
  },
  {
   "cell_type": "code",
   "execution_count": null,
   "id": "5505d266ce4143e2",
   "metadata": {
    "ExecuteTime": {
     "end_time": "2025-09-08T14:15:38.969201Z",
     "start_time": "2025-09-08T14:15:38.964703Z"
    }
   },
   "outputs": [],
   "source": [
    "isbns = []\n",
    "predicted_cats = []\n",
    "\n",
    "missing_cats = books.loc[books[\"simple_categories\"].isna(), [\"isbn13\", \"description\"]].reset_index(drop=True)"
   ]
  },
  {
   "cell_type": "code",
   "execution_count": null,
   "id": "2aa408c828106b3a",
   "metadata": {
    "ExecuteTime": {
     "end_time": "2025-09-08T14:24:02.828451Z",
     "start_time": "2025-09-08T14:16:07.952452Z"
    }
   },
   "outputs": [],
   "source": [
    "for i in tqdm(range(0, len(missing_cats))):\n",
    "    sequence = missing_cats[\"description\"][i]\n",
    "    predicted_cats += [generate_predictions(sequence, fiction_categories)]\n",
    "    isbns += [missing_cats[\"isbn13\"][i]]"
   ]
  },
  {
   "cell_type": "code",
   "execution_count": null,
   "id": "6dcba71e9e47727c",
   "metadata": {
    "ExecuteTime": {
     "end_time": "2025-09-08T14:25:18.887718Z",
     "start_time": "2025-09-08T14:25:18.883717Z"
    }
   },
   "outputs": [],
   "source": [
    "missing_predictions_df = pd.DataFrame({\"isbn13\": isbns, \"predicted_categories\": predicted_cats})"
   ]
  },
  {
   "cell_type": "code",
   "execution_count": null,
   "id": "138fee8b13228acb",
   "metadata": {
    "ExecuteTime": {
     "end_time": "2025-09-08T14:25:30.537552Z",
     "start_time": "2025-09-08T14:25:30.531051Z"
    }
   },
   "outputs": [],
   "source": [
    "missing_predictions_df"
   ]
  },
  {
   "cell_type": "code",
   "execution_count": null,
   "id": "cf91c3a4cfbcdb28",
   "metadata": {
    "ExecuteTime": {
     "end_time": "2025-09-08T14:34:12.053484Z",
     "start_time": "2025-09-08T14:34:12.045985Z"
    }
   },
   "outputs": [],
   "source": [
    "books = pd.merge(books, missing_predictions_df, on=\"isbn13\", how=\"left\")\n",
    "books[\"simple_categories\"] = np.where(books[\"simple_categories\"].isna(), books[\"predicted_categories\"], books[\"simple_categories\"])\n",
    "books = books.drop(columns= [\"predicted_categories\", \"predicted_categories_x\", \"predicted_categories_y\"])"
   ]
  },
  {
   "cell_type": "code",
   "execution_count": null,
   "id": "af45aa15a33eb5e6",
   "metadata": {
    "ExecuteTime": {
     "end_time": "2025-09-08T14:34:13.125939Z",
     "start_time": "2025-09-08T14:34:13.113939Z"
    }
   },
   "outputs": [],
   "source": [
    "books"
   ]
  },
  {
   "cell_type": "code",
   "execution_count": null,
   "id": "fbb4c423fb27e218",
   "metadata": {
    "ExecuteTime": {
     "end_time": "2025-09-08T14:37:41.161941Z",
     "start_time": "2025-09-08T14:37:41.152440Z"
    }
   },
   "outputs": [],
   "source": [
    "books[books[\"categories\"].str.lower().isin([\n",
    "    \"romance\",\n",
    "    \"science fiction\",\n",
    "    \"scifi\",\n",
    "    \"fantasy\",\n",
    "    \"horror\",\n",
    "    \"mystery\",\n",
    "    \"thriller\",\n",
    "    \"comedy\",\n",
    "    \"crime\",\n",
    "    \"historical\"\n",
    "])]"
   ]
  },
  {
   "cell_type": "code",
   "execution_count": null,
   "id": "115cad498bf8f33",
   "metadata": {
    "ExecuteTime": {
     "end_time": "2025-09-08T14:40:05.271323Z",
     "start_time": "2025-09-08T14:40:05.196324Z"
    }
   },
   "outputs": [],
   "source": [
    "books.to_csv(\"books_with_categories.csv\", index=False)"
   ]
  }
 ],
 "metadata": {
  "kernelspec": {
   "display_name": "Python 3",
   "language": "python",
   "name": "python3"
  },
  "language_info": {
   "codemirror_mode": {
    "name": "ipython",
    "version": 2
   },
   "file_extension": ".py",
   "mimetype": "text/x-python",
   "name": "python",
   "nbconvert_exporter": "python",
   "pygments_lexer": "ipython2",
   "version": "2.7.6"
  }
 },
 "nbformat": 4,
 "nbformat_minor": 5
}
