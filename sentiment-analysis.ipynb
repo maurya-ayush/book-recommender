{
 "cells": [
  {
   "cell_type": "code",
   "execution_count": null,
   "id": "initial_id",
   "metadata": {
    "ExecuteTime": {
     "end_time": "2025-09-08T14:47:26.607373Z",
     "start_time": "2025-09-08T14:47:26.544875Z"
    },
    "collapsed": true
   },
   "outputs": [],
   "source": [
    "import pandas as pd\n",
    "\n",
    "books = pd.read_csv(\"books_with_categories.csv\")"
   ]
  },
  {
   "cell_type": "code",
   "execution_count": null,
   "id": "b6ee8a2d14fb105c",
   "metadata": {
    "ExecuteTime": {
     "end_time": "2025-09-08T14:52:23.432417Z",
     "start_time": "2025-09-08T14:52:22.024602Z"
    }
   },
   "outputs": [],
   "source": [
    "from transformers import pipeline\n",
    "classifier = pipeline(\"text-classification\",\n",
    "                      model=\"j-hartmann/emotion-english-distilroberta-base\",\n",
    "                      top_k= None,\n",
    "                      device=\"xpu\")\n",
    "classifier(\"I love this!\")"
   ]
  },
  {
   "cell_type": "code",
   "execution_count": null,
   "id": "f65363058b544b97",
   "metadata": {
    "ExecuteTime": {
     "end_time": "2025-09-08T15:37:08.704823Z",
     "start_time": "2025-09-08T15:37:08.700823Z"
    }
   },
   "outputs": [],
   "source": [
    "books[\"description\"][0]"
   ]
  },
  {
   "cell_type": "code",
   "execution_count": null,
   "id": "ef0a352794a108d0",
   "metadata": {
    "ExecuteTime": {
     "end_time": "2025-09-08T15:45:24.595912Z",
     "start_time": "2025-09-08T15:45:24.082913Z"
    }
   },
   "outputs": [],
   "source": [
    "classifier(books[\"description\"][0])"
   ]
  },
  {
   "cell_type": "code",
   "execution_count": null,
   "id": "69eb14fa0d19e1cd",
   "metadata": {
    "ExecuteTime": {
     "end_time": "2025-09-08T15:46:42.228041Z",
     "start_time": "2025-09-08T15:46:41.699542Z"
    }
   },
   "outputs": [],
   "source": [
    "classifier(books[\"description\"][0].split(\".\"))"
   ]
  },
  {
   "cell_type": "code",
   "execution_count": null,
   "id": "bec29f83f11e36ea",
   "metadata": {
    "ExecuteTime": {
     "end_time": "2025-09-08T15:48:47.387286Z",
     "start_time": "2025-09-08T15:48:47.309287Z"
    }
   },
   "outputs": [],
   "source": [
    "sentences = books[\"description\"][0].split(\".\")\n",
    "predictions = classifier(sentences)"
   ]
  },
  {
   "cell_type": "code",
   "execution_count": null,
   "id": "da7b297b6691bf26",
   "metadata": {
    "ExecuteTime": {
     "end_time": "2025-09-08T15:50:21.608547Z",
     "start_time": "2025-09-08T15:50:21.604549Z"
    }
   },
   "outputs": [],
   "source": [
    "sentences[2]"
   ]
  },
  {
   "cell_type": "code",
   "execution_count": null,
   "id": "a347cb636f1904db",
   "metadata": {
    "ExecuteTime": {
     "end_time": "2025-09-08T15:50:34.485856Z",
     "start_time": "2025-09-08T15:50:34.481856Z"
    }
   },
   "outputs": [],
   "source": [
    "predictions[3]"
   ]
  },
  {
   "cell_type": "code",
   "execution_count": null,
   "id": "4ea7c2895126c346",
   "metadata": {
    "ExecuteTime": {
     "end_time": "2025-09-08T16:01:15.416906Z",
     "start_time": "2025-09-08T16:01:15.412404Z"
    }
   },
   "outputs": [],
   "source": [
    "sorted(predictions[0], key=lambda x: x[\"label\"])"
   ]
  },
  {
   "cell_type": "code",
   "execution_count": null,
   "id": "abe5e6a58175f9c7",
   "metadata": {
    "ExecuteTime": {
     "end_time": "2025-09-08T16:23:50.180672Z",
     "start_time": "2025-09-08T16:23:50.176173Z"
    }
   },
   "outputs": [],
   "source": [
    "import numpy as np\n",
    "\n",
    "emotion_labels = [\"anger\", \"disgust\", \"fear\", \"joy\", \"sadness\", \"surprise\", \"neutral\"]\n",
    "isbn = []\n",
    "\n",
    "emotion_score = {label: [] for label in emotion_labels}\n",
    "\n",
    "def calculate_max_emotion_scores(predictions):\n",
    "    per_emotion_scores = {label: [] for label in emotion_labels}\n",
    "    for prediction in predictions:\n",
    "        sorted_predictions = sorted(prediction, key=lambda x: x[\"label\"])\n",
    "        for index, label in enumerate(emotion_labels):\n",
    "            per_emotion_scores[label].append(sorted_predictions[index][\"score\"])\n",
    "    return {label: np.max(scores) for label, scores in per_emotion_scores.items()}"
   ]
  },
  {
   "cell_type": "code",
   "execution_count": null,
   "id": "b7bf9d98e1004e49",
   "metadata": {
    "ExecuteTime": {
     "end_time": "2025-09-08T16:23:53.288478Z",
     "start_time": "2025-09-08T16:23:52.779479Z"
    }
   },
   "outputs": [],
   "source": [
    "for i in range(10):\n",
    "    isbn.append(books[\"isbn13\"][i])\n",
    "    sentences = books[\"description\"][i].split(\".\")\n",
    "    predictions = classifier(sentences)\n",
    "    max_scores = calculate_max_emotion_score(predictions)\n",
    "    for label in emotion_labels:\n",
    "        emotion_score[label].append(max_scores[label])"
   ]
  },
  {
   "cell_type": "code",
   "execution_count": null,
   "id": "bf4aca69115f138f",
   "metadata": {
    "ExecuteTime": {
     "end_time": "2025-09-08T16:23:55.523070Z",
     "start_time": "2025-09-08T16:23:55.518571Z"
    }
   },
   "outputs": [],
   "source": [
    "emotion_score"
   ]
  },
  {
   "cell_type": "code",
   "execution_count": null,
   "id": "a3a8e509d2819bfd",
   "metadata": {
    "ExecuteTime": {
     "end_time": "2025-09-08T16:27:36.399577Z",
     "start_time": "2025-09-08T16:24:04.795076Z"
    }
   },
   "outputs": [],
   "source": [
    "from tqdm import tqdm\n",
    "\n",
    "emotion_labels = [\"anger\", \"disgust\", \"fear\", \"joy\", \"sadness\", \"surprise\", \"neutral\"]\n",
    "isbn = []\n",
    "\n",
    "emotion_scores = {label: [] for label in emotion_labels}\n",
    "\n",
    "for i in tqdm(range(len(books))):\n",
    "    isbn.append(books[\"isbn13\"][i])\n",
    "    sentences = books[\"description\"][i].split(\".\")\n",
    "    predictions = classifier(sentences)\n",
    "    max_scores = calculate_max_emotion_scores(predictions)\n",
    "    for label in emotion_labels:\n",
    "        emotion_scores[label].append(max_scores[label])"
   ]
  },
  {
   "cell_type": "code",
   "execution_count": null,
   "id": "93d487ac37ae24d9",
   "metadata": {
    "ExecuteTime": {
     "end_time": "2025-09-08T16:27:58.176979Z",
     "start_time": "2025-09-08T16:27:58.167982Z"
    }
   },
   "outputs": [],
   "source": [
    "emotions_df = pd.DataFrame(emotion_scores)\n",
    "emotions_df[\"isbn13\"] = isbn"
   ]
  },
  {
   "cell_type": "code",
   "execution_count": null,
   "id": "ff5b2592409f897a",
   "metadata": {
    "ExecuteTime": {
     "end_time": "2025-09-08T16:28:00.543812Z",
     "start_time": "2025-09-08T16:28:00.533312Z"
    }
   },
   "outputs": [],
   "source": [
    "emotions_df"
   ]
  },
  {
   "cell_type": "code",
   "execution_count": null,
   "id": "6d7ddc226f539a65",
   "metadata": {
    "ExecuteTime": {
     "end_time": "2025-09-08T16:29:26.528350Z",
     "start_time": "2025-09-08T16:29:26.521851Z"
    }
   },
   "outputs": [],
   "source": [
    "books = pd.merge(books, emotions_df, on=\"isbn13\")"
   ]
  },
  {
   "cell_type": "code",
   "execution_count": null,
   "id": "60064c9c219bfba5",
   "metadata": {
    "ExecuteTime": {
     "end_time": "2025-09-08T16:29:32.950254Z",
     "start_time": "2025-09-08T16:29:32.937255Z"
    }
   },
   "outputs": [],
   "source": [
    "books"
   ]
  },
  {
   "cell_type": "code",
   "execution_count": null,
   "id": "f872d4b93fe57ffd",
   "metadata": {
    "ExecuteTime": {
     "end_time": "2025-09-08T16:30:47.055298Z",
     "start_time": "2025-09-08T16:30:46.967798Z"
    }
   },
   "outputs": [],
   "source": [
    "books.to_csv(\"books_with_emotions.csv\", index=False)"
   ]
  }
 ],
 "metadata": {
  "kernelspec": {
   "display_name": "Python 3",
   "language": "python",
   "name": "python3"
  },
  "language_info": {
   "codemirror_mode": {
    "name": "ipython",
    "version": 2
   },
   "file_extension": ".py",
   "mimetype": "text/x-python",
   "name": "python",
   "nbconvert_exporter": "python",
   "pygments_lexer": "ipython2",
   "version": "2.7.6"
  }
 },
 "nbformat": 4,
 "nbformat_minor": 5
}
