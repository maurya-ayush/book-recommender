{
 "cells": [
  {
   "cell_type": "code",
   "execution_count": null,
   "id": "f63da29b",
   "metadata": {
    "ExecuteTime": {
     "end_time": "2025-09-08T08:18:58.542515Z",
     "start_time": "2025-09-08T08:18:57.855798Z"
    }
   },
   "outputs": [],
   "source": [
    "import kagglehub\n",
    "\n",
    "# Download latest version\n",
    "path = kagglehub.dataset_download(\"dylanjcastillo/7k-books-with-metadata\")\n",
    "\n",
    "print(\"Path to dataset files:\", path)"
   ]
  },
  {
   "cell_type": "code",
   "execution_count": null,
   "id": "b13aa92b",
   "metadata": {
    "ExecuteTime": {
     "end_time": "2025-09-08T08:18:58.551015Z",
     "start_time": "2025-09-08T08:18:58.548016Z"
    }
   },
   "outputs": [],
   "source": [
    "import pandas as pd"
   ]
  },
  {
   "cell_type": "code",
   "execution_count": null,
   "id": "9e879f07",
   "metadata": {
    "ExecuteTime": {
     "end_time": "2025-09-08T08:18:58.600515Z",
     "start_time": "2025-09-08T08:18:58.565517Z"
    }
   },
   "outputs": [],
   "source": [
    "books = pd.read_csv(\"books.csv\")"
   ]
  },
  {
   "cell_type": "code",
   "execution_count": null,
   "id": "5166ec7d",
   "metadata": {
    "ExecuteTime": {
     "end_time": "2025-09-08T08:18:58.619515Z",
     "start_time": "2025-09-08T08:18:58.608515Z"
    }
   },
   "outputs": [],
   "source": [
    "books"
   ]
  },
  {
   "cell_type": "code",
   "execution_count": null,
   "id": "bf81c0dba6380bca",
   "metadata": {
    "ExecuteTime": {
     "end_time": "2025-09-08T08:18:58.674517Z",
     "start_time": "2025-09-08T08:18:58.671516Z"
    }
   },
   "outputs": [],
   "source": [
    "import seaborn as sns\n",
    "import matplotlib.pyplot as plt"
   ]
  },
  {
   "cell_type": "code",
   "execution_count": null,
   "id": "e8c81512651bba99",
   "metadata": {
    "ExecuteTime": {
     "end_time": "2025-09-08T08:18:58.961515Z",
     "start_time": "2025-09-08T08:18:58.746017Z"
    }
   },
   "outputs": [],
   "source": [
    "ax = plt.axes()\n",
    "sns.heatmap(books.isna().transpose(), cbar=False, ax=ax)\n",
    "\n",
    "plt.xlabel(\"Columns\")\n",
    "plt.ylabel(\"Missing values\")\n",
    "\n",
    "plt.show()"
   ]
  },
  {
   "cell_type": "code",
   "execution_count": null,
   "id": "ecec3bf31c31539",
   "metadata": {
    "ExecuteTime": {
     "end_time": "2025-09-08T08:18:59.019015Z",
     "start_time": "2025-09-08T08:18:59.014515Z"
    }
   },
   "outputs": [],
   "source": [
    "import numpy as np\n",
    "\n",
    "books[\"missing_description\"] = np.where(books[\"description\"].isna(), 1, 0)\n",
    "books[\"age_of_book\"] = 2024 - books[\"published_year\"]"
   ]
  },
  {
   "cell_type": "code",
   "execution_count": null,
   "id": "2a77a33b05f43001",
   "metadata": {
    "ExecuteTime": {
     "end_time": "2025-09-08T08:18:59.159515Z",
     "start_time": "2025-09-08T08:18:59.069516Z"
    }
   },
   "outputs": [],
   "source": [
    "columns_of_interest = [\"num_pages\", \"age_of_book\", \"missing_description\", \"average_rating\"]\n",
    "\n",
    "correlation_matrix = books[columns_of_interest].corr(method=\"spearman\")\n",
    "\n",
    "sns.set_theme(style=\"white\")\n",
    "plt.figure(figsize=(8, 6))\n",
    "heatmap = sns.heatmap(correlation_matrix, annot=True, fmt=\".2f\", cmap=\"coolwarm\" , cbar_kws={\"label\": \"Spearman correlation\"})\n",
    "\n",
    "heatmap.set_title(\"Correlation Heatmap\")"
   ]
  },
  {
   "cell_type": "code",
   "execution_count": null,
   "id": "1e5eef378c4d8588",
   "metadata": {
    "ExecuteTime": {
     "end_time": "2025-09-08T08:18:59.181515Z",
     "start_time": "2025-09-08T08:18:59.176516Z"
    }
   },
   "outputs": [],
   "source": [
    "book_missing = books[~(books[\"description\"].isna()) &\n",
    "      ~(books[\"num_pages\"].isna()) &\n",
    "      ~(books[\"average_rating\"].isna()) &\n",
    "      ~(books[\"published_year\"].isna())\n",
    "].copy()"
   ]
  },
  {
   "cell_type": "code",
   "execution_count": null,
   "id": "a721ce3194d3a601",
   "metadata": {
    "ExecuteTime": {
     "end_time": "2025-09-08T08:18:59.196516Z",
     "start_time": "2025-09-08T08:18:59.188016Z"
    }
   },
   "outputs": [],
   "source": [
    "book_missing"
   ]
  },
  {
   "cell_type": "code",
   "execution_count": null,
   "id": "f942ecc2b622906f",
   "metadata": {
    "ExecuteTime": {
     "end_time": "2025-09-08T08:18:59.236016Z",
     "start_time": "2025-09-08T08:18:59.230515Z"
    }
   },
   "outputs": [],
   "source": [
    "book_missing[\"categories\"].value_counts().reset_index().sort_values(\"count\", ascending=False)"
   ]
  },
  {
   "cell_type": "code",
   "execution_count": null,
   "id": "79d71ceada6f6999",
   "metadata": {
    "ExecuteTime": {
     "end_time": "2025-09-08T08:18:59.386015Z",
     "start_time": "2025-09-08T08:18:59.362015Z"
    }
   },
   "outputs": [],
   "source": [
    "book_missing[\"words_in_description\"] = book_missing[\"description\"].str.split().str.len()"
   ]
  },
  {
   "cell_type": "code",
   "execution_count": null,
   "id": "7f79343bcc41521c",
   "metadata": {
    "ExecuteTime": {
     "end_time": "2025-09-08T08:19:45.107707Z",
     "start_time": "2025-09-08T08:19:45.094706Z"
    }
   },
   "outputs": [],
   "source": [
    "book_missing"
   ]
  },
  {
   "cell_type": "code",
   "execution_count": null,
   "id": "6dfd6621d418797e",
   "metadata": {
    "ExecuteTime": {
     "end_time": "2025-09-08T08:25:19.425389Z",
     "start_time": "2025-09-08T08:25:19.419888Z"
    }
   },
   "outputs": [],
   "source": [
    "book_missing.loc[book_missing[\"words_in_description\"].between(25, 34), \"description\"]"
   ]
  },
  {
   "cell_type": "code",
   "execution_count": null,
   "id": "4016cb241728924b",
   "metadata": {
    "ExecuteTime": {
     "end_time": "2025-09-08T09:59:10.127479Z",
     "start_time": "2025-09-08T09:59:10.111981Z"
    }
   },
   "outputs": [],
   "source": [
    "book_missing_25_words = book_missing[book_missing[\"words_in_description\"] >= 25].copy()\n",
    "book_missing_25_words"
   ]
  },
  {
   "cell_type": "code",
   "execution_count": null,
   "id": "cf757c23843730d0",
   "metadata": {
    "ExecuteTime": {
     "end_time": "2025-09-08T09:59:12.881414Z",
     "start_time": "2025-09-08T09:59:12.866916Z"
    }
   },
   "outputs": [],
   "source": [
    "book_missing_25_words[\"title_and_subtitle\"] = (\n",
    "    np.where(book_missing_25_words[\"subtitle\"].isna(), book_missing_25_words[\"title\"],\n",
    "             book_missing_25_words[[\"title\", \"subtitle\"]].astype(str).agg(\": \".join, axis=1))\n",
    ")"
   ]
  },
  {
   "cell_type": "code",
   "execution_count": null,
   "id": "ad61627b62a381b5",
   "metadata": {
    "ExecuteTime": {
     "end_time": "2025-09-08T10:00:22.631538Z",
     "start_time": "2025-09-08T10:00:22.619038Z"
    }
   },
   "outputs": [],
   "source": [
    "book_missing_25_words"
   ]
  },
  {
   "cell_type": "code",
   "execution_count": null,
   "id": "762b387036e68f23",
   "metadata": {
    "ExecuteTime": {
     "end_time": "2025-09-08T10:03:29.679608Z",
     "start_time": "2025-09-08T10:03:29.645609Z"
    }
   },
   "outputs": [],
   "source": [
    "book_missing_25_words[\"tagged_description\"] = book_missing_25_words[[\"isbn13\", \"description\"]].astype(str).agg(\" \".join, axis=1)\n",
    "book_missing_25_words"
   ]
  },
  {
   "cell_type": "code",
   "execution_count": null,
   "id": "958411cc4e3d9cdb",
   "metadata": {
    "ExecuteTime": {
     "end_time": "2025-09-08T10:06:25.481262Z",
     "start_time": "2025-09-08T10:06:25.416262Z"
    }
   },
   "outputs": [],
   "source": [
    "(\n",
    "    book_missing_25_words\n",
    "    .drop([\"subtitle\", \"missing_description\", \"age_of_book\", \"words_in_description\"], axis=1)\n",
    "    .to_csv(\"book_cleaned.csv\", index=False)\n",
    ")"
   ]
  }
 ],
 "metadata": {
  "kernelspec": {
   "display_name": ".venv",
   "language": "python",
   "name": "python3"
  },
  "language_info": {
   "codemirror_mode": {
    "name": "ipython",
    "version": 3
   },
   "file_extension": ".py",
   "mimetype": "text/x-python",
   "name": "python",
   "nbconvert_exporter": "python",
   "pygments_lexer": "ipython3",
   "version": "3.12.10"
  }
 },
 "nbformat": 4,
 "nbformat_minor": 5
}
